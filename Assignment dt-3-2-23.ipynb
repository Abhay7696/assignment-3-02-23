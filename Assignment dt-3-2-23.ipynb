{
 "cells": [
  {
   "cell_type": "code",
   "execution_count": null,
   "id": "c091fb88-3025-4f5e-aa22-bc1695f09e23",
   "metadata": {},
   "outputs": [],
   "source": [
    "Q1. Which keyword is used to create a function? Create a function to return a list of odd numbers in the\n",
    "range of 1 to 25."
   ]
  },
  {
   "cell_type": "code",
   "execution_count": 2,
   "id": "24acafbe-ecfa-47fe-a757-7dbfbbd7f005",
   "metadata": {},
   "outputs": [
    {
     "name": "stdin",
     "output_type": "stream",
     "text": [
      "please enter the minimum value :  1\n",
      "please enter the maximum valua :  25\n"
     ]
    },
    {
     "name": "stdout",
     "output_type": "stream",
     "text": [
      "1\n",
      "3\n",
      "5\n",
      "7\n",
      "9\n",
      "11\n",
      "13\n",
      "15\n",
      "17\n",
      "19\n",
      "21\n",
      "23\n",
      "25\n"
     ]
    }
   ],
   "source": [
    "# def keyword is used to create a function.\n",
    "\n",
    "minimum = int(input(\"please enter the minimum value : \"))\n",
    "maximum = int(input(\"please enter the maximum valua : \"))\n",
    "for number in range (minimum , maximum+1):\n",
    "    if(number % 2 != 0):\n",
    "        print(\"{0}\" .format(number))\n"
   ]
  },
  {
   "cell_type": "code",
   "execution_count": null,
   "id": "e5a1ddc3-6470-4f27-9546-c7cc1f16b163",
   "metadata": {},
   "outputs": [],
   "source": [
    "Q2. Why *args and **kwargs is used in some functions? Create a function each for *args and **kwargs\n",
    "to demonstrate their use."
   ]
  },
  {
   "cell_type": "code",
   "execution_count": null,
   "id": "6962e1e9-1ccf-4379-a204-52c3c97ebd15",
   "metadata": {},
   "outputs": [],
   "source": [
    "*args passes variable number of non-keyworded arguments and on which operation of the tuple can be performed. \n",
    "**kwargs passes variable number of keyword arguments dictionary to function on which operation of a dictionary can be performed.\n",
    "*args and **kwargs make the function flexible."
   ]
  },
  {
   "cell_type": "code",
   "execution_count": null,
   "id": "0cccd2a3-6ca6-4d94-ac8c-669b784abf40",
   "metadata": {},
   "outputs": [],
   "source": [
    "#args\n",
    "def adder(*num):\n",
    "    sum = 0\n",
    "    \n",
    "    for n in num:\n",
    "        sum = sum + n\n",
    "\n",
    "    print(\"Sum:\",sum)\n",
    "\n",
    "adder(3,5)\n",
    "adder(4,5,6,7)\n",
    "adder(1,2,3,5,6)"
   ]
  },
  {
   "cell_type": "code",
   "execution_count": null,
   "id": "442c34e3-89b1-4efb-8618-d46b5408760a",
   "metadata": {},
   "outputs": [],
   "source": [
    "#kwargs\n",
    "\n",
    "def intro(**data):\n",
    "    print(\"\\nData type of argument:\",type(data))\n",
    "\n",
    "    for key, value in data.items():\n",
    "        print(\"{} is {}\".format(key,value))\n",
    "\n",
    "intro(Firstname=\"Sita\", Lastname=\"Sharma\", Age=22, Phone=1234567890)\n",
    "intro(Firstname=\"John\", Lastname=\"Wood\", Email=\"johnwood@nomail.com\", Country=\"Wakanda\", Age=25, Phone=9876543210)"
   ]
  },
  {
   "cell_type": "code",
   "execution_count": null,
   "id": "7774125e-2469-478d-9a0e-431c4505c6fe",
   "metadata": {},
   "outputs": [],
   "source": [
    "What is an iterator in python? Name the method used to initialise the iterator object and the method\n",
    "used for iteration. Use these methods to print the first five elements of the given list [2, 4, 6, 8, 10, 12, 14,\n",
    "16, 18, 20]."
   ]
  },
  {
   "cell_type": "code",
   "execution_count": null,
   "id": "305e5347-479c-46e2-947f-c15b6befd603",
   "metadata": {},
   "outputs": [],
   "source": [
    "An iterator is an object that contains a countable number of values.\n",
    "\n",
    "An iterator is an object that can be iterated upon, meaning that you can traverse through all the values.\n",
    "\n",
    "Technically, in Python, an iterator is an object which implements the iterator protocol, which consist of the methods __iter__() and __next__()."
   ]
  },
  {
   "cell_type": "code",
   "execution_count": null,
   "id": "7a25d52e-78c2-4d5b-92c6-dc7be4eafed3",
   "metadata": {},
   "outputs": [],
   "source": [
    "mytuple = (2, 4, 6, 8, 10, 12, 14,\n",
    "16, 18, 20)\n",
    "myit = iter(mytuple)\n",
    "\n",
    "print(next(myit))\n",
    "print(next(myit))\n",
    "print(next(myit))"
   ]
  },
  {
   "cell_type": "code",
   "execution_count": null,
   "id": "47f87776-04ac-4acb-b809-555a3322b94e",
   "metadata": {},
   "outputs": [],
   "source": [
    "Q4. What is a generator function in python? Why yield keyword is used? Give an example of a generator\n",
    "function."
   ]
  },
  {
   "cell_type": "code",
   "execution_count": null,
   "id": "8fbc53e9-e10d-47a5-bbe8-5bce98938c99",
   "metadata": {},
   "outputs": [],
   "source": [
    "In Python, generator functions are those functions that, instead of returning a single value, return an iterable generator object.\n",
    "You can access or read the values returned from the generator function stored inside a generator object one-by-one using a simple loop or using next() or list() methods\n",
    "We should use yield when we want to iterate over a sequence, but don't want to store the entire sequence in memory. \n",
    "Yield are used in Python generators. A generator function is defined like a normal function, but whenever it needs to generate a value,\n",
    "it does so with the yield keyword rather than return\n"
   ]
  },
  {
   "cell_type": "code",
   "execution_count": null,
   "id": "0bca245e-edd4-45c8-8c56-e18f455ee89c",
   "metadata": {},
   "outputs": [],
   "source": [
    "list = [1,2,3,4,5,6]\n",
    "z = (x**3 for x in list)\n",
    "print(next(z))\n",
    "print(next(z))\n",
    "print(next(z))\n",
    "print(next(z)"
   ]
  },
  {
   "cell_type": "code",
   "execution_count": null,
   "id": "ffd62320-5ddd-4a17-b5d8-29106f0a8b69",
   "metadata": {},
   "outputs": [],
   "source": [
    "Q5. Create a generator function for prime numbers less than 1000. Use the next() method to print the\n",
    "first 20 prime numbers."
   ]
  },
  {
   "cell_type": "code",
   "execution_count": null,
   "id": "1b1d1d83-9bc7-4f03-b1e3-ceb731621b23",
   "metadata": {},
   "outputs": [],
   "source": [
    "def main():\n",
    "    count = 3\n",
    "    one = 1\n",
    "    while one == 1:\n",
    "        for x in range(2, int(math.sqrt(count) + 1)):\n",
    "            if count % x == 0: \n",
    "                continue\n",
    "            if count % x != 0:\n",
    "                print count\n",
    "\n",
    "        count += 1"
   ]
  },
  {
   "cell_type": "code",
   "execution_count": null,
   "id": "bfca1f55-ee1e-4b97-8ec4-f23c61939888",
   "metadata": {},
   "outputs": [],
   "source": [
    "Q6. Write a python program to print the first 10 Fibonacci numbers using a while loop."
   ]
  },
  {
   "cell_type": "code",
   "execution_count": null,
   "id": "eb739824-a0b7-4f1d-b27a-5aeb1d3fba90",
   "metadata": {},
   "outputs": [],
   "source": [
    "n = int(input())\n",
    "a = 0\n",
    "b = 1\n",
    "sum = 0\n",
    "count = 1\n",
    "print(\"Fibonacci series is: \", end = \" \")\n",
    "while(count <= n):\n",
    "count += 1\n",
    "  print(a, end=\" \")\n",
    "    a = b\n",
    "    b = sum\n",
    "sum = a + b\n"
   ]
  },
  {
   "cell_type": "code",
   "execution_count": null,
   "id": "ac5cd5c4-0697-43da-85a9-4d081d7915a4",
   "metadata": {},
   "outputs": [],
   "source": [
    "Q7. Write a List Comprehension to iterate through the given string: ‘pwskills’.\n",
    "Expected output: ['p', 'w', 's', 'k', 'i', 'l', 'l', 's']"
   ]
  },
  {
   "cell_type": "code",
   "execution_count": null,
   "id": "b5768f34-6cac-49ca-a6ca-316475508e54",
   "metadata": {},
   "outputs": [],
   "source": [
    "# creating a list\n",
    "l = [\"pwskills\"]\n",
    "\n",
    "# using the list comprehension method\n",
    "[print(x) for x in l]"
   ]
  },
  {
   "cell_type": "code",
   "execution_count": null,
   "id": "528fde2b-5367-48d8-aaee-b7ad86e45888",
   "metadata": {},
   "outputs": [],
   "source": [
    "Q8. Write a python program to check whether a given number is Palindrome or not using a while loop."
   ]
  },
  {
   "cell_type": "code",
   "execution_count": null,
   "id": "f1eb9f35-824a-4df5-8849-fcdf7b41ccf4",
   "metadata": {},
   "outputs": [],
   "source": [
    "n=int(input(\"Enter number:\"))\n",
    "temp=n\n",
    "rev=0\n",
    "while(n>0):\n",
    "    dig=n%10\n",
    "    rev=rev*10+dig\n",
    "    n=n//10\n",
    "if(temp==rev):\n",
    "    print(\"The number is a palindrome!\")\n",
    "else:\n",
    "    print(\"The number isn't a palindrome!\")"
   ]
  },
  {
   "cell_type": "code",
   "execution_count": null,
   "id": "a85840cd-a253-4e42-a3ba-c25910402a74",
   "metadata": {},
   "outputs": [],
   "source": [
    "Q9. Write a code to print odd numbers from 1 to 100 using list comprehension."
   ]
  },
  {
   "cell_type": "code",
   "execution_count": null,
   "id": "3d71f671-91c1-4cd8-96ff-f37ee07a2674",
   "metadata": {},
   "outputs": [],
   "source": [
    "odd_list = [element for element in range(1, 101) if element % 2 == 1 ]\n",
    "print(odd_list)"
   ]
  },
  {
   "cell_type": "code",
   "execution_count": null,
   "id": "0f888044-98c8-4c92-8725-e7dcb912c5b6",
   "metadata": {},
   "outputs": [],
   "source": []
  },
  {
   "cell_type": "code",
   "execution_count": null,
   "id": "c7cd1b2f-b89d-4667-b83e-92ed77b176b1",
   "metadata": {},
   "outputs": [],
   "source": []
  }
 ],
 "metadata": {
  "kernelspec": {
   "display_name": "Python 3 (ipykernel)",
   "language": "python",
   "name": "python3"
  },
  "language_info": {
   "codemirror_mode": {
    "name": "ipython",
    "version": 3
   },
   "file_extension": ".py",
   "mimetype": "text/x-python",
   "name": "python",
   "nbconvert_exporter": "python",
   "pygments_lexer": "ipython3",
   "version": "3.10.8"
  }
 },
 "nbformat": 4,
 "nbformat_minor": 5
}
